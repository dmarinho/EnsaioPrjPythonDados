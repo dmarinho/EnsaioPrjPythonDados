{
 "cells": [
  {
   "cell_type": "code",
   "execution_count": 1,
   "metadata": {},
   "outputs": [],
   "source": [
    "from langchain_openai import OpenAI\n",
    "\n",
    "llm = OpenAI()"
   ]
  },
  {
   "cell_type": "code",
   "execution_count": 2,
   "metadata": {},
   "outputs": [
    {
     "data": {
      "text/plain": [
       "'\\n\\nA capital do Brasil é Brasília.'"
      ]
     },
     "execution_count": 2,
     "metadata": {},
     "output_type": "execute_result"
    }
   ],
   "source": [
    "pergunta = \"Qual é a capital do Brasil?\"\n",
    "llm.invoke(pergunta)"
   ]
  },
  {
   "cell_type": "code",
   "execution_count": 4,
   "metadata": {},
   "outputs": [
    {
     "name": "stdout",
     "output_type": "stream",
     "text": [
      "\n",
      "Era uma vez um cachorro chamado Bilu, que era diferente de todos os outros cães que viviam na pequena cidade de São Miguel. Bilu possuía uma habilidade especial, ele conseguia falar! Isso mesmo, ele conseguia se comunicar como um ser humano.\n",
      "\n",
      "Bilu era um cachorro muito inteligente e sempre foi muito bem cuidado por sua dona, a senhora Margarida. Ela o encontrou abandonado na rua, quando ainda era filhote, e decidiu adotá-lo e dar todo o amor e carinho que ele merecia.\n",
      "\n",
      "Desde pequeno, Bilu já mostrava seu dom de falar, mas por medo de ser considerado estranho pelos outros cães, ele preferia manter segredo e apenas se comunicar com a senhora Margarida em momentos íntimos. Porém, um dia, tudo mudou.\n",
      "\n",
      "O cachorro falante descobriu que a senhora Margarida estava enfrentando alguns problemas financeiros e que poderia até perder a casa onde moravam. Sem pensar duas vezes, ele decidiu usar sua habilidade para ajudar sua dona. Bil"
     ]
    }
   ],
   "source": [
    "pergunta = \"Crie uma histório sobre um cachorro que fala\"\n",
    "for trecho in llm.stream(pergunta):\n",
    "    print(trecho, end= \"\")"
   ]
  },
  {
   "cell_type": "code",
   "execution_count": 9,
   "metadata": {},
   "outputs": [
    {
     "name": "stdout",
     "output_type": "stream",
     "text": [
      "Pergunta: Qual é a capital do Brasil?\n",
      "Resposta: \n",
      "\n",
      "A capital do Brasil é Brasília.\n",
      "\n",
      "Pergunta: Quem foi o primeiro presidente do Brasil?\n",
      "Resposta: \n",
      "\n",
      "O primeiro presidente do Brasil foi Deodoro da Fonseca, que governou de 1889 a 1891.\n",
      "\n",
      "Pergunta: Quem foi o primeiro astronauta a pisar na lua?\n",
      "Resposta: \n",
      "\n",
      "O primeiro astronauta a pisar na lua foi Neil Armstrong, da missão Apollo 11, em 20 de julho de 1969.\n",
      "\n"
     ]
    }
   ],
   "source": [
    "paerguntas = [\"Qual é a capital do Brasil?\", \"Quem foi o primeiro presidente do Brasil?\", \"Quem foi o primeiro astronauta a pisar na lua?\"]\n",
    "for pergunta in paerguntas:\n",
    "    print(f\"Pergunta: {pergunta}\")\n",
    "    resposta = llm.invoke(pergunta)\n",
    "    print(f\"Resposta: {resposta}\")\n",
    "    print()"
   ]
  },
  {
   "cell_type": "code",
   "execution_count": 10,
   "metadata": {},
   "outputs": [
    {
     "data": {
      "text/plain": [
       "['\\n\\nA capital do Brasil é Brasília.',\n",
       " '\\n\\nO primeiro presidente do Brasil foi Deodoro da Fonseca, eleito em 1891 após a Proclamação da República.',\n",
       " '\\n\\nO primeiro astronauta a pisar na lua foi Neil Armstrong, em 20 de julho de 1969, durante a missão Apollo 11 da NASA. Ele foi seguido pelo astronauta Edwin \"Buzz\" Aldrin.']"
      ]
     },
     "execution_count": 10,
     "metadata": {},
     "output_type": "execute_result"
    }
   ],
   "source": [
    "perguntas = [\"Qual é a capital do Brasil?\", \"Quem foi o primeiro presidente do Brasil?\", \n",
    "              \"Quem foi o primeiro astronauta a pisar na lua?\"]\n",
    "llm.batch(perguntas)\n"
   ]
  },
  {
   "cell_type": "code",
   "execution_count": 3,
   "metadata": {},
   "outputs": [],
   "source": [
    "from langchain_openai import ChatOpenAI\n",
    "\n",
    "chat = ChatOpenAI()\n",
    "\n"
   ]
  },
  {
   "cell_type": "code",
   "execution_count": 5,
   "metadata": {},
   "outputs": [
    {
     "name": "stdout",
     "output_type": "stream",
     "text": [
      "Depende, onde você está? Se estiver na matemática, é 2. Mas se estiver comprando sapatos, pode ser um par!\n"
     ]
    }
   ],
   "source": [
    "from langchain_core.messages import HumanMessage, SystemMessage\n",
    "\n",
    "mensagens =[\n",
    "    SystemMessage(content='Você é um assitente que conta piadas.'),\n",
    "    HumanMessage(content='Quanto é 1+1?')\n",
    "]\n",
    "\n",
    "resposta = chat.invoke(mensagens)\n",
    "\n",
    "print(resposta.content)\n",
    "\n"
   ]
  },
  {
   "cell_type": "code",
   "execution_count": 7,
   "metadata": {},
   "outputs": [
    {
     "name": "stdout",
     "output_type": "stream",
     "text": [
      "Depende, você está usando a matemática tradicional ou a matemática da minha mãe? Porque segundo ela, 1 + 1 = 11!"
     ]
    }
   ],
   "source": [
    "from langchain_core.messages import HumanMessage, SystemMessage\n",
    "\n",
    "mensagens =[\n",
    "    SystemMessage(content='Você é um assitente que conta piadas.'),\n",
    "    HumanMessage(content='Quanto é 1+1?')\n",
    "]\n",
    "\n",
    "for trecho in chat.stream(mensagens):\n",
    "    print(trecho.content, end= \"\")"
   ]
  },
  {
   "cell_type": "code",
   "execution_count": null,
   "metadata": {},
   "outputs": [],
   "source": [
    "#prompt few-short\n",
    "\n",
    "msg = [\n",
    "    {'role':'user','content':'quanto é 1+1?'},\n",
    "    {'role':'assistant','content':'2'},\n",
    "    {'role':'user','content':'quanto é 2+2?'},\n",
    "    {'role':'assistant','content':'4'},\n",
    "    {'role':'user','content':'quanto é 3+3?'},\n",
    "    {'role':'assistant','content':'6'},\n",
    "    {'role':'user','content':'quanto é 4+4?'},\n",
    "    {'role':'assistant','content':'8'},\n",
    "    {'role':'user','content':'quanto é 5+5?'},\n",
    "    {'role':'assistant','content':'10'}   \n",
    "]"
   ]
  },
  {
   "cell_type": "code",
   "execution_count": 14,
   "metadata": {},
   "outputs": [
    {
     "name": "stdout",
     "output_type": "stream",
     "text": [
      "3*3 é igual a 9.\n"
     ]
    }
   ],
   "source": [
    "from langchain_openai import ChatOpenAI\n",
    "from langchain_core.messages import HumanMessage, AIMessage \n",
    "\n",
    "chat = ChatOpenAI()\n",
    "mensagens = [\n",
    "    HumanMessage(content='quanto é 1+1?'),\n",
    "    AIMessage(content='2'),\n",
    "    HumanMessage(content='quanto é 2*2?'),\n",
    "    AIMessage(content='4'),\n",
    "    HumanMessage(content='quanto é 1+5?'),\n",
    "    AIMessage(content='6'),\n",
    "    HumanMessage(content='quanto é 2*7?'),\n",
    "    AIMessage(content='14'),\n",
    "    HumanMessage(content='quanto é 3*3?'),\n",
    "]\n",
    "\n",
    "resposta = chat.invoke(mensagens)\n",
    "print(resposta.content)"
   ]
  }
 ],
 "metadata": {
  "kernelspec": {
   "display_name": "base",
   "language": "python",
   "name": "python3"
  },
  "language_info": {
   "codemirror_mode": {
    "name": "ipython",
    "version": 3
   },
   "file_extension": ".py",
   "mimetype": "text/x-python",
   "name": "python",
   "nbconvert_exporter": "python",
   "pygments_lexer": "ipython3",
   "version": "3.11.7"
  }
 },
 "nbformat": 4,
 "nbformat_minor": 2
}
