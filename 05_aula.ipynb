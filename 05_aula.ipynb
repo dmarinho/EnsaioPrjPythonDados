{
 "cells": [
  {
   "cell_type": "code",
   "execution_count": 6,
   "metadata": {},
   "outputs": [],
   "source": [
    "from langchain.output_parsers import ResponseSchema\n",
    "from langchain.output_parsers import StructuredOutputParser\n",
    "\n"
   ]
  },
  {
   "cell_type": "code",
   "execution_count": 23,
   "metadata": {},
   "outputs": [],
   "source": [
    "#criando Schema\n",
    "\n",
    "\n",
    "schema_presente = ResponseSchema(\n",
    "    name='presente',\n",
    "    type='boolean',\n",
    "    description='O item foi comprado para alguém? True caso verdadeiro e False caso falso ou não tenha informação' \n",
    ")\n",
    "\n",
    "\n",
    "schema_entrega = ResponseSchema(\n",
    "    name='dia_entrega',\n",
    "    type='int',\n",
    "    description='Quantos dias para a entrega chegar?  Se a resposta não for encontrada, retorne -1' \n",
    ")\n",
    "\n",
    "\n",
    "schema_valor = ResponseSchema(\n",
    "    name='percerpcao_de_valor',\n",
    "    type='list',\n",
    "    description='Extraia qualquer frase sobre o valor do produto. Retorne uma lista de python' \n",
    ")"
   ]
  },
  {
   "cell_type": "code",
   "execution_count": 24,
   "metadata": {},
   "outputs": [],
   "source": [
    "Response_schema = [schema_presente, schema_entrega, schema_valor]"
   ]
  },
  {
   "cell_type": "code",
   "execution_count": 25,
   "metadata": {},
   "outputs": [
    {
     "name": "stdout",
     "output_type": "stream",
     "text": [
      "The output should be a markdown code snippet formatted in the following schema, including the leading and trailing \"```json\" and \"```\":\n",
      "\n",
      "```json\n",
      "{\n",
      "\t\"presente\": boolean  // O item foi comprado para alguém? True caso verdadeiro e False caso falso ou não tenha informação\n",
      "\t\"dia_entrega\": int  // Quantos dias para a entrega chegar?  Se a resposta não for encontrada, retorne -1\n",
      "\t\"percerpcao_de_valor\": list  // Extraia qualquer frase sobre o valor do produto. Retorne uma lista de python\n",
      "}\n",
      "```\n"
     ]
    }
   ],
   "source": [
    "output_parser = StructuredOutputParser.from_response_schemas(Response_schema)\n",
    "schema_formated = output_parser.get_format_instructions()\n",
    "print(schema_formated)"
   ]
  },
  {
   "cell_type": "code",
   "execution_count": 30,
   "metadata": {},
   "outputs": [],
   "source": [
    "from langchain.prompts import  ChatPromptTemplate\n",
    "\n",
    "review_cliente=\"\"\"um soprador foi comprado, chegou em 2 dias, foi presente para minha esposa, excelete pois é economico e eficiente\"\"\"\n",
    "\n",
    "\n",
    "review_template = ChatPromptTemplate.from_template(\n",
    "    \"\"\"\n",
    "      Para o texto a seguir, responda as seguintes perguntas:\n",
    "\n",
    "      presente, dias_entrega, percepcao_de_valor\n",
    "\n",
    "      Texto: {review}\n",
    "\n",
    "      {schema}\n",
    "  \"\"\", partial_variables={'schema': schema_formated})\n",
    "\n"
   ]
  },
  {
   "cell_type": "code",
   "execution_count": 31,
   "metadata": {},
   "outputs": [
    {
     "name": "stdout",
     "output_type": "stream",
     "text": [
      "[HumanMessage(content='\\n      Para o texto a seguir, responda as seguintes perguntas:\\n\\n      presente, dias_entrega, percepcao_de_valor\\n\\n      Texto: um soprador foi comprado, chegou em 2 dias, foi presente para minha esposa, excelete pois é economico e eficiente\\n\\n      The output should be a markdown code snippet formatted in the following schema, including the leading and trailing \"```json\" and \"```\":\\n\\n```json\\n{\\n\\t\"presente\": boolean  // O item foi comprado para alguém? True caso verdadeiro e False caso falso ou não tenha informação\\n\\t\"dia_entrega\": int  // Quantos dias para a entrega chegar?  Se a resposta não for encontrada, retorne -1\\n\\t\"percerpcao_de_valor\": list  // Extraia qualquer frase sobre o valor do produto. Retorne uma lista de python\\n}\\n```\\n  ', additional_kwargs={}, response_metadata={})]\n"
     ]
    }
   ],
   "source": [
    "print(review_template.format_messages(review=review_cliente))"
   ]
  },
  {
   "cell_type": "code",
   "execution_count": 35,
   "metadata": {},
   "outputs": [],
   "source": [
    "from langchain_openai.chat_models import ChatOpenAI\n",
    "\n",
    "chat = ChatOpenAI()\n",
    "resposta = chat.invoke(review_template.format_messages(review=review_cliente))\n"
   ]
  },
  {
   "cell_type": "code",
   "execution_count": 36,
   "metadata": {},
   "outputs": [
    {
     "name": "stdout",
     "output_type": "stream",
     "text": [
      "```json\n",
      "{\n",
      "\t\"presente\": true,\n",
      "\t\"dia_entrega\": 2,\n",
      "\t\"percerpcao_de_valor\": [\"excelete pois é economico e eficiente\"]\n",
      "}\n",
      "```\n"
     ]
    }
   ],
   "source": [
    "print(resposta.content)"
   ]
  },
  {
   "cell_type": "code",
   "execution_count": 37,
   "metadata": {},
   "outputs": [
    {
     "name": "stdout",
     "output_type": "stream",
     "text": [
      "{'presente': True, 'dia_entrega': 2, 'percerpcao_de_valor': ['excelete pois é economico e eficiente']}\n"
     ]
    }
   ],
   "source": [
    "r_json = output_parser.parse(resposta.content)\n",
    "print(r_json)"
   ]
  },
  {
   "cell_type": "code",
   "execution_count": 38,
   "metadata": {},
   "outputs": [
    {
     "data": {
      "text/plain": [
       "True"
      ]
     },
     "execution_count": 38,
     "metadata": {},
     "output_type": "execute_result"
    }
   ],
   "source": [
    "r_json['presente']"
   ]
  },
  {
   "cell_type": "code",
   "execution_count": 39,
   "metadata": {},
   "outputs": [
    {
     "data": {
      "text/plain": [
       "2"
      ]
     },
     "execution_count": 39,
     "metadata": {},
     "output_type": "execute_result"
    }
   ],
   "source": [
    "r_json['dia_entrega']"
   ]
  },
  {
   "cell_type": "code",
   "execution_count": 40,
   "metadata": {},
   "outputs": [
    {
     "data": {
      "text/plain": [
       "['excelete pois é economico e eficiente']"
      ]
     },
     "execution_count": 40,
     "metadata": {},
     "output_type": "execute_result"
    }
   ],
   "source": [
    "r_json['percerpcao_de_valor']"
   ]
  }
 ],
 "metadata": {
  "kernelspec": {
   "display_name": "base",
   "language": "python",
   "name": "python3"
  },
  "language_info": {
   "codemirror_mode": {
    "name": "ipython",
    "version": 3
   },
   "file_extension": ".py",
   "mimetype": "text/x-python",
   "name": "python",
   "nbconvert_exporter": "python",
   "pygments_lexer": "ipython3",
   "version": "3.11.7"
  }
 },
 "nbformat": 4,
 "nbformat_minor": 2
}
